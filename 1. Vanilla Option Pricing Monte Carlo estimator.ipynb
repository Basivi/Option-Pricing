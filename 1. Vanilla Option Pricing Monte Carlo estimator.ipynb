{
 "cells": [
  {
   "cell_type": "code",
   "execution_count": 1,
   "metadata": {},
   "outputs": [],
   "source": [
    "#Share specific information\n",
    "risk_free_rate = 0.1\n",
    "S_0 = 100\n",
    "sigma = 0.3\n",
    "\n",
    "#Option specific information\n",
    "strike_price = 110 \n",
    "T = 0.5\n",
    "t = 0"
   ]
  },
  {
   "cell_type": "code",
   "execution_count": 5,
   "metadata": {},
   "outputs": [],
   "source": [
    "import numpy as np\n",
    "import random\n",
    "from scipy.stats import norm\n",
    "import math"
   ]
  },
  {
   "cell_type": "code",
   "execution_count": 10,
   "metadata": {},
   "outputs": [
    {
     "data": {
      "image/png": "[encoded data removed]",
      "text/plain": [
       "<Figure size 432x288 with 1 Axes>"
      ]
     },
     "metadata": {
      "needs_background": "light"
     },
     "output_type": "display_data"
    }
   ],
   "source": [
    "def terminal_shareprice(S_0, risk_free_rate, sigma, Z, T):\n",
    "    \"\"\"Generates the terminal share price, given some randon normal values, Z \"\"\"\n",
    "    return S_0 * np.exp((risk_free_rate - sigma**2/2) * T + sigma * np.sqrt(T) * Z)\n",
    "\n",
    "def discounted_call_payoff(S_T, K, risk_free_rate, T):\n",
    "    \"\"\"Function to evaluating the discounted payoff of put in Monto Carlo Estimation \"\"\"\n",
    "    return np.exp(-risk_free_rate * T) * np.maximum(K - S_T, 0)\n",
    "\n",
    "#Code for generating Monte Carlo Estimates of vanilla European Put Options\n",
    "np.random.seed(0)\n",
    "\n",
    "#Empty arrays which can be used to store estimate vaues of different sample sizes.\n",
    "mput_estimates = [None]*50\n",
    "mput_std = [None]*50\n",
    "\n",
    "#Generating Monte Carlo estimates as a function of sample size.  \n",
    "for i in range(1, 51):\n",
    "    norm_array = norm.rvs(size = i * 1000)\n",
    "    term_val = terminal_shareprice(S_0, risk_free_rate, sigma, norm_array, T)\n",
    "    mput_val = discounted_call_payoff(term_val, strike_price, risk_free_rate, T)\n",
    "    mput_estimates[i-1] = np.mean(mput_val)\n",
    "    mput_std[i-1] = np.std(mput_val)/np.sqrt(i*1000)\n",
    "    \n",
    "#Code for analytical solution for vanilla European Put Options\n",
    "d_1 = (math.log(S_0/strike_price) + (risk_free_rate + sigma**2/2) * (T-t)) / (sigma * math.sqrt(T-t))\n",
    "d_2 = d_1 - sigma * math.sqrt(T-t)\n",
    "atl_val = -S_0 * norm.cdf(-d_1) + strike_price * math.exp(-risk_free_rate * (T - t)) * norm.cdf(-d_2)\n",
    "\n",
    "#Plot the Monte Carlo estimates, the analytical European put option value, and three standard deviation error bounds.\n",
    "import matplotlib.pyplot as plt\n",
    "\n",
    "plt.plot([atl_val] * 50)\n",
    "plt.plot(mput_estimates, '.')\n",
    "plt.plot(atl_val + np.array(mput_std)*3, 'r')\n",
    "plt.plot(atl_val - np.array(mput_std)*3, 'r')\n",
    "plt.xlabel(\"Sample Size (in 1000's)\")\n",
    "plt.ylabel(\"Monte Carlo Estimate\")\n",
    "plt.show()"
   ]
  }
 ],
 "metadata": {
  "kernelspec": {
   "display_name": "Python 3",
   "language": "python",
   "name": "python3"
  },
  "language_info": {
   "codemirror_mode": {
    "name": "ipython",
    "version": 3
   },
   "file_extension": ".py",
   "mimetype": "text/x-python",
   "name": "python",
   "nbconvert_exporter": "python",
   "pygments_lexer": "ipython3",
   "version": "3.7.0"
  }
 },
 "nbformat": 4,
 "nbformat_minor": 2
}
