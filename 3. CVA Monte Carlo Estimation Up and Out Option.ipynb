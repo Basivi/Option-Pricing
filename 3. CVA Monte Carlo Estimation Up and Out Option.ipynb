{
 "cells": [
  {
   "cell_type": "markdown",
   "metadata": {},
   "source": [
    "# Monte Carlo simulation for calculating CVA"
   ]
  },
  {
   "cell_type": "code",
   "execution_count": 2,
   "metadata": {},
   "outputs": [],
   "source": [
    "# import all the necessary libraries\n",
    "import numpy as np\n",
    "from scipy.stats import norm\n",
    "import matplotlib.pyplot as plt\n",
    "import random"
   ]
  },
  {
   "cell_type": "markdown",
   "metadata": {},
   "source": [
    "***Here we are capturing the information as per the problem statement. The share is the asset on\n",
    "which we hold a call option, and the firm is the counterparty for the option. Barrier is limit beyond which the option expires worthless."
   ]
  },
  {
   "cell_type": "code",
   "execution_count": 3,
   "metadata": {},
   "outputs": [],
   "source": [
    "#Market information \n",
    "risk_free_rate = 0.08\n",
    "\n",
    "#Share specific information\n",
    "S_0 = 100\n",
    "sigma = 0.30\n",
    "\n",
    "#Call option specific information\n",
    "strike =100\n",
    "T = 1\n",
    "barrier_limit=150\n",
    "\n",
    "#Firm specific information\n",
    "V_0 = 200\n",
    "sigma_firm = 0.25 \n",
    "debt = 175\n",
    "recovery_rate = 0.25 \n",
    "correlation = 0.2"
   ]
  },
  {
   "cell_type": "markdown",
   "metadata": {},
   "source": [
    "***It is necessary to create the functions which transform our random standard normals into\n",
    "terminal values. Note that we are going to be modeling our firm value in the same way which\n",
    "we have been modeling stock values – hence, we are going to be using the terminal_value\n",
    "function for both our stock and our firm. The call_payoff function finds the payoff for a call\n",
    "option at terminal time."
   ]
  },
  {
   "cell_type": "code",
   "execution_count": 4,
   "metadata": {},
   "outputs": [],
   "source": [
    "#Utility Functions for later valuations\n",
    "def terminal_value(S_0, risk_free_rate, sigma, Z, T):\n",
    "    \"\"\"Generate the terminal stock price given the random normal values, Z\"\"\"\n",
    "    return S_0 * np.exp((risk_free_rate-sigma**2/2)*T+sigma*np.sqrt(T)*Z)\n",
    "\n",
    "def call_payoff(S_T, K):\n",
    "    \"\"\"Function for evaluating the payoff for call option at terminal time\"\"\"\n",
    "    return max(S_T-K, 0)"
   ]
  },
  {
   "cell_type": "markdown",
   "metadata": {},
   "source": [
    "***Since we are working within the Merton model, we are going to be simulating our assets using a standard normal distribution.\n",
    "We are using a sample size of 50 000 – this means that we have 50 000 estimates for our stock price and 50 000 estimates for our firm value. Given the correlation between shares and firm value as 0.2 we generate the correlated standard normal numbers using a Cholesky decomposition."
   ]
  },
  {
   "cell_type": "code",
   "execution_count": 5,
   "metadata": {},
   "outputs": [],
   "source": [
    "np.random.seed(0)\n",
    "\n",
    "corr_matrix = np.array([[1, correlation], [correlation, 1]])\n",
    "norm_matrix = norm.rvs(size = np.array([2, 50000]))\n",
    "corr_norm_matrix = np.matmul(np.linalg.cholesky(corr_matrix), norm_matrix)"
   ]
  },
  {
   "cell_type": "markdown",
   "metadata": {},
   "source": [
    "***Once we have our matrix of standard normal random numbers, we can generate our terminal stock and firm values. first create an array of stock values using the first row of the matrix of correlated standard normals. Note that this will create an array of 50 000 stock values. Then create an array of terminal firm values."
   ]
  },
  {
   "cell_type": "code",
   "execution_count": 8,
   "metadata": {},
   "outputs": [
    {
     "name": "stdout",
     "output_type": "stream",
     "text": [
      "16.93150545719726\n"
     ]
    }
   ],
   "source": [
    "term_stock_val = terminal_value(S_0, risk_free_rate, sigma, corr_norm_matrix[0,],T)\n",
    "call_val = term_stock_val * (term_stock_val > barrier_limit)\n",
    "term_firm_val = terminal_value(V_0, risk_free_rate, sigma, corr_norm_matrix[1,],T)\n",
    "print(np.mean(np.exp(-risk_free_rate * T) * call_val))"
   ]
  },
  {
   "cell_type": "markdown",
   "metadata": {},
   "source": [
    "***With these terminal values generated, we can calculate our potential profit losses in each case. Losses occurs when the firm value falls below its outstanding debt, in which case we recover a percentage of outstanding which is called Recovery Rate. Finally CVA is calculated as mean of all sample generated losses."
   ]
  },
  {
   "cell_type": "code",
   "execution_count": 7,
   "metadata": {},
   "outputs": [
    {
     "name": "stdout",
     "output_type": "stream",
     "text": [
      "cva_estimate :  2.2580240310760042\n"
     ]
    }
   ],
   "source": [
    "amount_lost = np.exp(-risk_free_rate * T) * (1 - recovery_rate) * (term_firm_val < debt) * call_val\n",
    "cva_estimate = np.mean(amount_lost)\n",
    "cva_std = np.std(amount_lost)/np.sqrt(50000)\n",
    "print(\"cva_estimate : \", cva_estimate)\n",
    "\n",
    "#Code to calculate default probability\n",
    "# d_1 = (np.log(V_0/debt) + (risk_free + sigma_firm**2/2) * (T))/(sigma_firm * np.sqrt(T))\n",
    "# d_2 = d_1 - sigma_firm * np.sqrt(T)\n",
    "\n",
    "# default_prob = norm.cdf(-d_2)"
   ]
  }
 ],
 "metadata": {
  "kernelspec": {
   "display_name": "Python 3",
   "language": "python",
   "name": "python3"
  },
  "language_info": {
   "codemirror_mode": {
    "name": "ipython",
    "version": 3
   },
   "file_extension": ".py",
   "mimetype": "text/x-python",
   "name": "python",
   "nbconvert_exporter": "python",
   "pygments_lexer": "ipython3",
   "version": "3.7.0"
  }
 },
 "nbformat": 4,
 "nbformat_minor": 2
}
