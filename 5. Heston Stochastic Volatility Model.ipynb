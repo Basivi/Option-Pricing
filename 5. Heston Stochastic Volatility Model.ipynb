{
 "cells": [
  {
   "cell_type": "code",
   "execution_count": 2,
   "metadata": {},
   "outputs": [],
   "source": [
    "# python 3.7\n",
    "# contact@leonardofilipe.com\n",
    "# based on Zhang, L. implementation\n",
    "# paper: https://arxiv.org/abs/0802.4411\n",
    "\n",
    "%matplotlib notebook\n",
    "import numpy              as np\n",
    "import pandas             as pd\n",
    "import matplotlib.pyplot  as plt\n",
    "\n",
    "from matplotlib           import cm\n",
    "from mpl_toolkits.mplot3d import axes3d\n",
    "\n",
    "plt.style.use('seaborn')\n",
    "\n",
    "def Heston_Calls(series):\n",
    "    # Variables\n",
    "    kappa = series['kappa'] # Mean Reversion Speed\n",
    "    theta = series['theta'] # Long Run Variance\n",
    "    sigma = series['sigma'] # Volatility of Variance\n",
    "    rho   = series['rho'] # Correlation\n",
    "    v0    = series['Cv0'] # Initial Variance (I use Call Implied Variance from BSM instead)\n",
    "    T     = series['T'] # Time to maturity\n",
    "    s0    = series['s0'] # Spot Price\n",
    "    K     = series['K'] # Strike Price\n",
    "    N     = 10000 # Nº of simulations\n",
    "    dt    = 1/32 # Timestep granularity (related to the nº of steps being generated)\n",
    "\n",
    "    # Calculations\n",
    "    vega  =(4*kappa*theta/(sigma*sigma))\n",
    "    K1    = dt*(kappa*rho/sigma-0.5)/2-rho/sigma\n",
    "    K2    = dt*(kappa*rho/sigma-0.5)/2+rho/sigma\n",
    "    K3    = dt*(1-rho*rho)/2\n",
    "    ss    = K2+K3/2\n",
    "    yita  = 4*kappa*np.exp(-kappa*dt)/(sigma*sigma)/(1-np.exp(-kappa*dt))\n",
    "    sh    = ss*np.exp(-kappa*dt)/yita\n",
    "    S     = np.ones(N)*s0\n",
    "    v     = np.ones(N)*v0\n",
    "    Ntime=int(T/dt)\n",
    "    \n",
    "    # Simulations\n",
    "    for i in range (0,Ntime):\n",
    "        Zs   = np.random.randn(1,N)\n",
    "        lamb = v*yita\n",
    "        W    = np.random.noncentral_chisquare(vega,lamb)\n",
    "        v2   = W*np.exp(-kappa*dt)/yita\n",
    "        K0   = -lamb*sh/(1-2*sh)+0.5*vega*np.log(1-2*sh)-(K1+K3/2)*v\n",
    "        S    = S*np.exp(K0+K1*v+K2*v2+np.multiply(np.sqrt(K3*(v+v2)),Zs))\n",
    "        v    = v2\n",
    "    payoff=np.maximum(S-K,0)\n",
    "    return np.mean(payoff)\n",
    "\n",
    "def Heston_Puts(series):\n",
    "    # Variables\n",
    "    kappa = series['kappa'] # Mean Reversion Speed\n",
    "    theta = series['theta'] # Long Run Variance\n",
    "    sigma = series['sigma'] # Volatility of Variance\n",
    "    rho   = series['rho'] # Correlation\n",
    "    v0    = series['Pv0'] # Initial Variance (I use Put Implied Variance from BSM instead)\n",
    "    T     = series['T'] # Time to maturity\n",
    "    s0    = series['s0'] # Spot Price\n",
    "    K     = series['K'] # Strike Price\n",
    "    N     = 10000 # Nº of simulations\n",
    "    dt    = 1/32 # Timestep granularity (related to the nº of steps being generated)\n",
    "\n",
    "    # Calculations\n",
    "    vega  = (4*kappa*theta/(sigma*sigma))\n",
    "    K1    = dt*(kappa*rho/sigma-0.5)/2-rho/sigma\n",
    "    K2    = dt*(kappa*rho/sigma-0.5)/2+rho/sigma\n",
    "    K3    = dt*(1-rho*rho)/2\n",
    "    ss    = K2+K3/2\n",
    "    yita  = 4*kappa*np.exp(-kappa*dt)/(sigma*sigma)/(1-np.exp(-kappa*dt))\n",
    "    sh    = ss*np.exp(-kappa*dt)/yita\n",
    "    S     = np.ones(N)*s0\n",
    "    v     = np.ones(N)*v0\n",
    "    Ntime = int(T/dt)\n",
    "\n",
    "    # Simulations\n",
    "    for i in range (0,Ntime):\n",
    "        Zs   = np.random.randn(1,N)\n",
    "        lamb = v*yita\n",
    "        W    = np.random.noncentral_chisquare(vega,lamb)\n",
    "        v2   = W*np.exp(-kappa*dt)/yita\n",
    "        K0   = -lamb*sh/(1-2*sh)+0.5*vega*np.log(1-2*sh)-(K1+K3/2)*v\n",
    "        S    = S*np.exp(K0+K1*v+K2*v2+np.multiply(np.sqrt(K3*(v+v2)),Zs))\n",
    "        v    = v2\n",
    "    payoff=np.maximum(K-S,0)\n",
    "    return np.mean(payoff)\n",
    "\n",
    "db             = pd.read_hdf(\"optiondata.h5\")\n",
    "db['Now']      = pd.to_datetime(db['Now'])\n",
    "db['Maturity'] = pd.to_datetime(db['Maturity'])"
   ]
  },
  {
   "cell_type": "code",
   "execution_count": 3,
   "metadata": {},
   "outputs": [],
   "source": [
    "HTest = pd.DataFrame({'T': db['Expiration'],'Cv0': db['CallImpVol']**2, 'Now': db['Now'],\n",
    "                     's0': db['Spot'],'Pv0': db['PutImpVol']**2,'Put': db['PutMid'],\n",
    "                     'K': db['Strike'],'Call': db['CallMid'],'Maturity': db['Maturity']})\n",
    "\n",
    "HTest[HTest['Cv0'] < 0.001] = 0\n",
    "HTest[HTest['Pv0'] < 0.001] = 0\n",
    "HTest = HTest.loc[(HTest!=0).any(1)]\n",
    "HTest = HTest.reset_index().drop('index',axis=1)\n",
    "\n",
    "# Calibration can still be improved\n",
    "HTest['Moneyness'] = abs(HTest['K']/HTest['s0'])\n",
    "HTest['theta'] = 0.0722\n",
    "HTest['kappa'] = 0.4816\n",
    "HTest['sigma'] = 0.621\n",
    "HTest['rho']   = -0.5527"
   ]
  },
  {
   "cell_type": "code",
   "execution_count": 4,
   "metadata": {},
   "outputs": [
    {
     "data": {
      "text/plain": [
       "count    429.000000\n",
       "mean       0.177740\n",
       "std        0.161867\n",
       "min        0.000000\n",
       "25%        0.080398\n",
       "50%        0.151679\n",
       "75%        0.192312\n",
       "max        0.865672\n",
       "Name: CError, dtype: float64"
      ]
     },
     "execution_count": 4,
     "metadata": {},
     "output_type": "execute_result"
    }
   ],
   "source": [
    "HTest['Heston Call'] = round(HTest.apply(Heston_Calls, axis=1),2)\n",
    "HTest['CError'] = abs(HTest['Heston Call']/HTest['Call']-1)\n",
    "HTest['CError'].describe()"
   ]
  },
  {
   "cell_type": "code",
   "execution_count": null,
   "metadata": {},
   "outputs": [],
   "source": [
    "HTest['Heston Put'] = round(HTest.apply(Heston_Puts, axis=1),2)\n",
    "HTest['PError'] = abs(HTest['Heston Put']/HTest['Put']-1)\n",
    "HTest['PError'].describe()"
   ]
  },
  {
   "cell_type": "code",
   "execution_count": null,
   "metadata": {},
   "outputs": [],
   "source": [
    "HTest.groupby('Maturity')['CError'].describe()"
   ]
  },
  {
   "cell_type": "code",
   "execution_count": null,
   "metadata": {},
   "outputs": [],
   "source": [
    "HTest.groupby('Maturity')['PError'].describe()"
   ]
  },
  {
   "cell_type": "code",
   "execution_count": null,
   "metadata": {},
   "outputs": [],
   "source": [
    "fig = plt.figure(figsize=(9,6))\n",
    "ax  = fig.gca(projection='3d')\n",
    "ax.plot_trisurf(HTest['Moneyness'], HTest['T'], abs(HTest['CError']), cmap=cm.plasma, linewidth=0.1)\n",
    "\n",
    "ax.set_xlabel('Moneyness')\n",
    "ax.set_ylabel('Time to Maturity')\n",
    "ax.set_zlabel('Error')\n",
    "\n",
    "ax.dist=12\n",
    "ax.view_init(30, 112.5)\n",
    "plt.show()"
   ]
  },
  {
   "cell_type": "code",
   "execution_count": null,
   "metadata": {
    "scrolled": false
   },
   "outputs": [],
   "source": [
    "fig = plt.figure(figsize=(9,6))\n",
    "ax  = fig.gca(projection='3d')\n",
    "ax.plot_trisurf(HTest['Moneyness'], HTest['T'], abs(HTest['PError']), cmap=cm.plasma, linewidth=0.1)\n",
    "\n",
    "ax.set_xlabel('Moneyness')\n",
    "ax.set_ylabel('Time to Maturity')\n",
    "ax.set_zlabel('Error')\n",
    "\n",
    "ax.dist=12\n",
    "ax.view_init(30, 112.5)\n",
    "plt.show()"
   ]
  }
 ],
 "metadata": {
  "kernelspec": {
   "display_name": "Python 3",
   "language": "python",
   "name": "python3"
  },
  "language_info": {
   "codemirror_mode": {
    "name": "ipython",
    "version": 3
   },
   "file_extension": ".py",
   "mimetype": "text/x-python",
   "name": "python",
   "nbconvert_exporter": "python",
   "pygments_lexer": "ipython3",
   "version": "3.7.0"
  }
 },
 "nbformat": 4,
 "nbformat_minor": 2
}
