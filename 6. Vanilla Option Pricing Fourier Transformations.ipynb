{
 "cells": [
  {
   "cell_type": "markdown",
   "metadata": {},
   "source": [
    "## Collaborative Review Task M4\n"
   ]
  },
  {
   "cell_type": "code",
   "execution_count": 1,
   "metadata": {},
   "outputs": [],
   "source": [
    "import numpy as np\n",
    "from scipy.stats import norm\n",
    "import matplotlib.pyplot as plt\n",
    "\n",
    "#Share specific information\n",
    "r = 0.1\n",
    "S0 = 120\n",
    "sigma = 0.25\n",
    "\n",
    "#Put option specific information\n",
    "K = 100\n",
    "T = 2\n",
    "k_log = np.log(K)"
   ]
  },
  {
   "cell_type": "code",
   "execution_count": 13,
   "metadata": {},
   "outputs": [],
   "source": [
    "#Code for analytical solution for vanilla European Call Option\n",
    "d_1_stock = (np.log(S0/K)+(r+sigma**2/2)*(T))/(sigma*np.sqrt(T))\n",
    "d_2_stock = d_1_stock - sigma*np.sqrt(T)\n",
    "\n",
    "analytic_call_price = S0*norm.cdf(d_1_stock) - K * np.exp(-r * (T))*norm.cdf(d_2_stock)"
   ]
  },
  {
   "cell_type": "code",
   "execution_count": 10,
   "metadata": {},
   "outputs": [],
   "source": [
    "#The equation expressing put-call parity is: C + PV(k) = P + S\n",
    "\n",
    "# where:\n",
    "#C = price of the European call option\n",
    "# PV(k) = the present value of the strike price (k), discounted from the value on the expiration date at the risk-free rate\n",
    "# P = price of the European put\n",
    "# S = spot price or the current market value of the underlying asset"
   ]
  },
  {
   "cell_type": "code",
   "execution_count": 12,
   "metadata": {},
   "outputs": [
    {
     "name": "stdout",
     "output_type": "stream",
     "text": [
      "analytic_put_price :  2.469386750885704\n"
     ]
    }
   ],
   "source": [
    "#Given Stock spot price, call price, strike price, risk free rate and time period, option put price \n",
    "#can be easily evaluated using put-call parity equation.  \n",
    "\n",
    "analytic_put_price = analytic_call_price +  K * np.exp(-r * (T)) -S0\n",
    "print(\"analytic_put_price : \", analytic_put_price)"
   ]
  },
  {
   "cell_type": "code",
   "execution_count": 4,
   "metadata": {},
   "outputs": [],
   "source": [
    "# Characteristic functions\n",
    "def c_M1(t):\n",
    "    return np.exp(1j*t*(np.log(S0)+(r-sigma**2/2)*T) - (sigma**2)*T*(t**2)/2)\n",
    "\n",
    "def c_M2(t):\n",
    "    return np.exp(1j*t*sigma**2*T)*c_M1(t)"
   ]
  },
  {
   "cell_type": "code",
   "execution_count": 14,
   "metadata": {},
   "outputs": [
    {
     "name": "stdout",
     "output_type": "stream",
     "text": [
      "fourier_put_val :  2.46938675088572\n"
     ]
    }
   ],
   "source": [
    "#Choosing t_max and N\n",
    "t_max = 40\n",
    "N = 200\n",
    "\n",
    "#Calculating delta and constructing t_n\n",
    "delta_t = t_max/N\n",
    "from_1_to_N = np.linspace(1,N,N)\n",
    "t_n = (from_1_to_N-1/2)* delta_t\n",
    "\n",
    "#Approximate integral estimates\n",
    "first_integral = sum((((np.exp(-1j*t_n*k_log)*c_M2(t_n)).imag)/t_n)*delta_t)\n",
    "second_integral = sum((((np.exp(-1j*t_n*k_log)*c_M1(t_n)).imag)/t_n)*delta_t)\n",
    "\n",
    "fourier_call_val = np.exp(-r*T)*K*(1/2 - second_integral/np.pi) - S0 * (1/2 - first_integral/np.pi)\n",
    "\n",
    "print(\"fourier_put_val : \", fourier_call_val)\n",
    "\n",
    "# Observe the Put value calculated using analytical formula and using Fourier Transformations \n",
    "#yielded exactly same result to the 13 decimal precision. "
   ]
  },
  {
   "cell_type": "code",
   "execution_count": 16,
   "metadata": {},
   "outputs": [],
   "source": [
    "#Fourier-Cosine Series expansion\n",
    "#General functions for valuations\n",
    "\n",
    "def upsilon_n(b2,b1,d,c,n):\n",
    "    npi_d = np.pi*n*(d-b1)/(b2-b1)\n",
    "    npi_c = np.pi*n*(c-b1)/(b2-b1)\n",
    "    val_one = (np.cos(npi_d)*np.exp(d)-np.cos(npi_c)*np.exp(c))\n",
    "    val_two = (n*np.pi*(np.sin(npi_d)*np.exp(d)-np.sin(npi_c)*np.exp(c))/(b2-b1))\n",
    "    return (val_one+val_two)/(1+(n*np.pi/(b2-b1))**2)\n",
    "\n",
    "def psi_n(b2,b1,d,c,n):\n",
    "    if n == 0:\n",
    "        return d-c\n",
    "    else:\n",
    "        return (b2-b1)*(np.sin(n*np.pi*(d-b1)/(b2-b1))-np.sin(n*np.pi*(c-b1)/(b2-b1)))/(n*np.pi)\n"
   ]
  },
  {
   "cell_type": "code",
   "execution_count": 21,
   "metadata": {},
   "outputs": [],
   "source": [
    "#Functions for put valution\n",
    "def v_n(K, b2, b1, n):\n",
    "    return 2*K*(psi_n(b2,b1,0,b1,n) - upsilon_n(b2,b1,0,b1,n))/(b2-b1)\n",
    "\n",
    "def logchar_func(u, S0, r, sigma, K, T):\n",
    "    return np.exp(1j*u*(np.log(S0/K)+(r-sigma**2/2)*T) - (sigma**2)*T*(u**2)/2)\n",
    "\n",
    "def put_price(N, S0, sigma, r, K, T, b2, b1):\n",
    "    price = v_n(K, b2, b1, 0)*logchar_func(0, S0, r, sigma, K, T)/2\n",
    "    for n in range(1, N):\n",
    "        price = price + logchar_func(n*np.pi/(b2-b1), S0, r, sigma, K, T)*np.exp(-1j*n*np.pi*b1/(b2-b1))* v_n(K, b2, b1, n)\n",
    "    return price.real*np.exp(-r*T)"
   ]
  },
  {
   "cell_type": "code",
   "execution_count": 22,
   "metadata": {},
   "outputs": [],
   "source": [
    "#b1, b2 for call\n",
    "c1 = r\n",
    "c2 = T*sigma**2\n",
    "c4 = 0\n",
    "L = 10\n",
    "\n",
    "b1 = c1-L*np.sqrt(c2-np.sqrt(c4))\n",
    "b2 = c1+L*np.sqrt(c2-np.sqrt(c4))\n",
    "\n",
    "#Calculating COS for various N\n",
    "COS_put_price = [None] * 50\n",
    "\n",
    "for i in range(1, 51):\n",
    "    COS_put_price[i-1] = put_price(i, S0, sigma, r, K, T, b2, b1)\n"
   ]
  },
  {
   "cell_type": "code",
   "execution_count": 23,
   "metadata": {},
   "outputs": [
    {
     "data": {
      "text/plain": [
       "Text(0, 0.5, 'Put price')"
      ]
     },
     "execution_count": 23,
     "metadata": {},
     "output_type": "execute_result"
    },
    {
     "data": {
      "image/png": "[encoded data removed]",
      "text/plain": [
       "<Figure size 432x288 with 1 Axes>"
      ]
     },
     "metadata": {
      "needs_background": "light"
     },
     "output_type": "display_data"
    }
   ],
   "source": [
    "#Plotting the results\n",
    "plt.plot(COS_put_price)\n",
    "plt.plot([analytic_put_price]*50)\n",
    "plt.xlabel(\"N\")\n",
    "plt.ylabel(\"Put price\")\n",
    "\n",
    "#Observe the price converges into analytical value pretty quickly with in first 7-8 iterations."
   ]
  },
  {
   "cell_type": "code",
   "execution_count": 24,
   "metadata": {},
   "outputs": [
    {
     "data": {
      "text/plain": [
       "Text(0, 0.5, 'Log absolute error')"
      ]
     },
     "execution_count": 24,
     "metadata": {},
     "output_type": "execute_result"
    },
    {
     "data": {
      "image/png": "[encoded data removed]",
      "text/plain": [
       "<Figure size 432x288 with 1 Axes>"
      ]
     },
     "metadata": {
      "needs_background": "light"
     },
     "output_type": "display_data"
    }
   ],
   "source": [
    "#Plotting the log error\n",
    "plt.plot(np.absolute(COS_put_price-analytic_put_price))\n",
    "plt.xlabel(\"N\")\n",
    "plt.ylabel(\"Log absolute error\")\n",
    "#Also the error is zero after 7-8 iterations "
   ]
  },
  {
   "cell_type": "code",
   "execution_count": 25,
   "metadata": {},
   "outputs": [],
   "source": [
    "#FFT algorithm\n",
    "\n",
    "def fft(x):\n",
    "    N = len(x)\n",
    "    if N == 1:\n",
    "        return x\n",
    "    else:\n",
    "        ek = fft(x[:-1:2])\n",
    "        ok = fft(x[1::2])\n",
    "        m = np.array(range(int(N/2)))\n",
    "        okm = ok * np.exp(-1j*2*np.pi*m/N)\n",
    "        return np.concatenate((ek+okm, ek-okm))"
   ]
  },
  {
   "cell_type": "code",
   "execution_count": 137,
   "metadata": {},
   "outputs": [],
   "source": [
    "# FFT Algorithm info\n",
    "N = 2**10\n",
    "delta = 0.25\n",
    "alpha = -1.5 # Alpha must be less than -1 to evaluate FFT Puts"
   ]
  },
  {
   "cell_type": "code",
   "execution_count": 134,
   "metadata": {},
   "outputs": [],
   "source": [
    "#Characterstic function of St\n",
    "def log_char(u):\n",
    "    return np.exp(1j*u*(np.log(S0)+(r-sigma**2/2)*T)-sigma**2*T*u**2/2)\n",
    "\n",
    "def p_func(v):\n",
    "    val1 = np.exp(-r*T)*log_char(v-(alpha+1)*1j)\n",
    "    val2 = alpha**2+alpha-v**2+1j*(2*alpha+1)*v\n",
    "    return val1/val2"
   ]
  },
  {
   "cell_type": "code",
   "execution_count": 135,
   "metadata": {},
   "outputs": [],
   "source": [
    "#Variables to vertorize pricing function\n",
    "n = np.array(range(N))\n",
    "delta_k = 2*np.pi/(N*delta)\n",
    "b = delta_k*(N-1)/2\n",
    "\n",
    "log_strike = np.linspace(-b,b,N)"
   ]
  },
  {
   "cell_type": "code",
   "execution_count": 136,
   "metadata": {},
   "outputs": [],
   "source": [
    "#Calc Xn, divide first Xn vy 2 and calc FFT of Xn\n",
    "x = np.exp(1j*b*n*delta)*p_func(n*delta)*(delta)\n",
    "x[0] = x[0]*0.5\n",
    "x[-1] = x[-1]*0.5\n",
    "\n",
    "xhat = fft(x).real\n",
    "fft_put = np.exp(-alpha*log_strike)*xhat/np.pi\n"
   ]
  },
  {
   "cell_type": "code",
   "execution_count": 138,
   "metadata": {},
   "outputs": [],
   "source": [
    "#Analytical solution for vanilla European Put Option\n",
    "d_1 = (np.log(S0/np.exp(log_strike))+(r+sigma**2/2)*T)/(sigma*np.sqrt(T))\n",
    "d_2 = d_1 - sigma*np.sqrt(T)\n",
    "analytic_putprice = np.exp(log_strike)*np.exp(-r*(T))*norm.cdf(-d_2) - S0*norm.cdf(-d_1)\n",
    "\n",
    "#analytic_putprice = analytic_callprice +  K * np.exp(-r * (T)) -S0\n",
    "#print(\"analytic_putprice: \",analytic_putprice)"
   ]
  },
  {
   "cell_type": "code",
   "execution_count": 139,
   "metadata": {},
   "outputs": [
    {
     "data": {
      "image/png": "[encoded data removed]",
      "text/plain": [
       "<Figure size 432x288 with 1 Axes>"
      ]
     },
     "metadata": {
      "needs_background": "light"
     },
     "output_type": "display_data"
    }
   ],
   "source": [
    "#Plotting the results\n",
    "plt.plot(np.exp(log_strike), analytic_putprice)\n",
    "plt.plot(np.exp(log_strike), fft_put)\n",
    "plt.axis([0,100,0,100])\n",
    "plt.xlabel(\"Strike\")\n",
    "plt.ylabel(\"Call Price\")\n",
    "plt.show()"
   ]
  },
  {
   "cell_type": "code",
   "execution_count": 140,
   "metadata": {},
   "outputs": [
    {
     "data": {
      "image/png": "[encoded data removed]",
      "text/plain": [
       "<Figure size 432x288 with 1 Axes>"
      ]
     },
     "metadata": {
      "needs_background": "light"
     },
     "output_type": "display_data"
    }
   ],
   "source": [
    "#Plotting Absolute Error\n",
    "plt.plot(log_strike, np.absolute(fft_put-analytic_putprice)) \n",
    "plt.xlabel(\"Log-Strike\")\n",
    "plt.ylabel(\"Absolute Error\")\n",
    "plt.show()"
   ]
  }
 ],
 "metadata": {
  "kernelspec": {
   "display_name": "Python 3",
   "language": "python",
   "name": "python3"
  },
  "language_info": {
   "codemirror_mode": {
    "name": "ipython",
    "version": 3
   },
   "file_extension": ".py",
   "mimetype": "text/x-python",
   "name": "python",
   "nbconvert_exporter": "python",
   "pygments_lexer": "ipython3",
   "version": "3.7.0"
  }
 },
 "nbformat": 4,
 "nbformat_minor": 2
}
